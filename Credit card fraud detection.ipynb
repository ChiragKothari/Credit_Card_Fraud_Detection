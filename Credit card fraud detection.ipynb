{
 "cells": [
  {
   "cell_type": "markdown",
   "metadata": {},
   "source": [
    "Dataset link: https://data.world/raghu543/credit-card-fraud-data\n",
    "\n",
    "The datasets contains transactions made by credit cards in September 2013 by European cardholders. This dataset presents transactions that occurred in two days. It contains only numerical input variables which are the result of a PCA transformation. Unfortunately, due to confidentiality issues, we don't have the original features and more background information about the data. Features V1, V2, ... V28 are the principal components obtained with PCA, the only features which have not been transformed with PCA are 'Time' and 'Amount'. Feature 'Time' contains the seconds elapsed between each transaction and the first transaction in the dataset. The feature 'Amount' is the transaction Amount, this feature can be used for example-dependant cost-senstive learning. Feature 'Class' is the response variable and it takes value 1 in case of fraud and 0 otherwise."
   ]
  },
  {
   "cell_type": "code",
   "execution_count": 1,
   "metadata": {},
   "outputs": [],
   "source": [
    "import pandas as pd\n",
    "import numpy as np\n",
    "import matplotlib.pyplot as plt\n",
    "from sklearn.utils import resample\n",
    "from sklearn.preprocessing import StandardScaler\n",
    "from sklearn.model_selection import train_test_split\n",
    "from sklearn.tree import DecisionTreeClassifier\n",
    "from sklearn.ensemble import RandomForestClassifier, AdaBoostClassifier\n",
    "from xgboost import XGBClassifier\n",
    "import lightgbm as lgb\n",
    "from lightgbm import LGBMClassifier\n",
    "from sklearn.metrics import roc_auc_score, confusion_matrix, classification_report, accuracy_score #recall_score, precision_recall_curve, auc, \n",
    "import seaborn as sns\n",
    "from imblearn.over_sampling import SMOTE, ADASYN"
   ]
  },
  {
   "cell_type": "code",
   "execution_count": 2,
   "metadata": {},
   "outputs": [
    {
     "data": {
      "text/html": [
       "<div>\n",
       "<style scoped>\n",
       "    .dataframe tbody tr th:only-of-type {\n",
       "        vertical-align: middle;\n",
       "    }\n",
       "\n",
       "    .dataframe tbody tr th {\n",
       "        vertical-align: top;\n",
       "    }\n",
       "\n",
       "    .dataframe thead th {\n",
       "        text-align: right;\n",
       "    }\n",
       "</style>\n",
       "<table border=\"1\" class=\"dataframe\">\n",
       "  <thead>\n",
       "    <tr style=\"text-align: right;\">\n",
       "      <th></th>\n",
       "      <th>V1</th>\n",
       "      <th>V2</th>\n",
       "      <th>V3</th>\n",
       "      <th>V4</th>\n",
       "      <th>V5</th>\n",
       "      <th>V6</th>\n",
       "      <th>V7</th>\n",
       "      <th>V8</th>\n",
       "      <th>V9</th>\n",
       "      <th>V10</th>\n",
       "      <th>...</th>\n",
       "      <th>V21</th>\n",
       "      <th>V22</th>\n",
       "      <th>V23</th>\n",
       "      <th>V24</th>\n",
       "      <th>V25</th>\n",
       "      <th>V26</th>\n",
       "      <th>V27</th>\n",
       "      <th>V28</th>\n",
       "      <th>Class</th>\n",
       "      <th>Normalized Amount</th>\n",
       "    </tr>\n",
       "  </thead>\n",
       "  <tbody>\n",
       "    <tr>\n",
       "      <th>0</th>\n",
       "      <td>-1.359807</td>\n",
       "      <td>-0.072781</td>\n",
       "      <td>2.536347</td>\n",
       "      <td>1.378155</td>\n",
       "      <td>-0.338321</td>\n",
       "      <td>0.462388</td>\n",
       "      <td>0.239599</td>\n",
       "      <td>0.098698</td>\n",
       "      <td>0.363787</td>\n",
       "      <td>0.090794</td>\n",
       "      <td>...</td>\n",
       "      <td>-0.018307</td>\n",
       "      <td>0.277838</td>\n",
       "      <td>-0.110474</td>\n",
       "      <td>0.066928</td>\n",
       "      <td>0.128539</td>\n",
       "      <td>-0.189115</td>\n",
       "      <td>0.133558</td>\n",
       "      <td>-0.021053</td>\n",
       "      <td>0</td>\n",
       "      <td>0.244964</td>\n",
       "    </tr>\n",
       "    <tr>\n",
       "      <th>1</th>\n",
       "      <td>1.191857</td>\n",
       "      <td>0.266151</td>\n",
       "      <td>0.166480</td>\n",
       "      <td>0.448154</td>\n",
       "      <td>0.060018</td>\n",
       "      <td>-0.082361</td>\n",
       "      <td>-0.078803</td>\n",
       "      <td>0.085102</td>\n",
       "      <td>-0.255425</td>\n",
       "      <td>-0.166974</td>\n",
       "      <td>...</td>\n",
       "      <td>-0.225775</td>\n",
       "      <td>-0.638672</td>\n",
       "      <td>0.101288</td>\n",
       "      <td>-0.339846</td>\n",
       "      <td>0.167170</td>\n",
       "      <td>0.125895</td>\n",
       "      <td>-0.008983</td>\n",
       "      <td>0.014724</td>\n",
       "      <td>0</td>\n",
       "      <td>-0.342475</td>\n",
       "    </tr>\n",
       "    <tr>\n",
       "      <th>2</th>\n",
       "      <td>-1.358354</td>\n",
       "      <td>-1.340163</td>\n",
       "      <td>1.773209</td>\n",
       "      <td>0.379780</td>\n",
       "      <td>-0.503198</td>\n",
       "      <td>1.800499</td>\n",
       "      <td>0.791461</td>\n",
       "      <td>0.247676</td>\n",
       "      <td>-1.514654</td>\n",
       "      <td>0.207643</td>\n",
       "      <td>...</td>\n",
       "      <td>0.247998</td>\n",
       "      <td>0.771679</td>\n",
       "      <td>0.909412</td>\n",
       "      <td>-0.689281</td>\n",
       "      <td>-0.327642</td>\n",
       "      <td>-0.139097</td>\n",
       "      <td>-0.055353</td>\n",
       "      <td>-0.059752</td>\n",
       "      <td>0</td>\n",
       "      <td>1.160686</td>\n",
       "    </tr>\n",
       "    <tr>\n",
       "      <th>3</th>\n",
       "      <td>-0.966272</td>\n",
       "      <td>-0.185226</td>\n",
       "      <td>1.792993</td>\n",
       "      <td>-0.863291</td>\n",
       "      <td>-0.010309</td>\n",
       "      <td>1.247203</td>\n",
       "      <td>0.237609</td>\n",
       "      <td>0.377436</td>\n",
       "      <td>-1.387024</td>\n",
       "      <td>-0.054952</td>\n",
       "      <td>...</td>\n",
       "      <td>-0.108300</td>\n",
       "      <td>0.005274</td>\n",
       "      <td>-0.190321</td>\n",
       "      <td>-1.175575</td>\n",
       "      <td>0.647376</td>\n",
       "      <td>-0.221929</td>\n",
       "      <td>0.062723</td>\n",
       "      <td>0.061458</td>\n",
       "      <td>0</td>\n",
       "      <td>0.140534</td>\n",
       "    </tr>\n",
       "    <tr>\n",
       "      <th>4</th>\n",
       "      <td>-1.158233</td>\n",
       "      <td>0.877737</td>\n",
       "      <td>1.548718</td>\n",
       "      <td>0.403034</td>\n",
       "      <td>-0.407193</td>\n",
       "      <td>0.095921</td>\n",
       "      <td>0.592941</td>\n",
       "      <td>-0.270533</td>\n",
       "      <td>0.817739</td>\n",
       "      <td>0.753074</td>\n",
       "      <td>...</td>\n",
       "      <td>-0.009431</td>\n",
       "      <td>0.798278</td>\n",
       "      <td>-0.137458</td>\n",
       "      <td>0.141267</td>\n",
       "      <td>-0.206010</td>\n",
       "      <td>0.502292</td>\n",
       "      <td>0.219422</td>\n",
       "      <td>0.215153</td>\n",
       "      <td>0</td>\n",
       "      <td>-0.073403</td>\n",
       "    </tr>\n",
       "  </tbody>\n",
       "</table>\n",
       "<p>5 rows × 30 columns</p>\n",
       "</div>"
      ],
      "text/plain": [
       "         V1        V2        V3        V4        V5        V6        V7  \\\n",
       "0 -1.359807 -0.072781  2.536347  1.378155 -0.338321  0.462388  0.239599   \n",
       "1  1.191857  0.266151  0.166480  0.448154  0.060018 -0.082361 -0.078803   \n",
       "2 -1.358354 -1.340163  1.773209  0.379780 -0.503198  1.800499  0.791461   \n",
       "3 -0.966272 -0.185226  1.792993 -0.863291 -0.010309  1.247203  0.237609   \n",
       "4 -1.158233  0.877737  1.548718  0.403034 -0.407193  0.095921  0.592941   \n",
       "\n",
       "         V8        V9       V10        ...               V21       V22  \\\n",
       "0  0.098698  0.363787  0.090794        ...         -0.018307  0.277838   \n",
       "1  0.085102 -0.255425 -0.166974        ...         -0.225775 -0.638672   \n",
       "2  0.247676 -1.514654  0.207643        ...          0.247998  0.771679   \n",
       "3  0.377436 -1.387024 -0.054952        ...         -0.108300  0.005274   \n",
       "4 -0.270533  0.817739  0.753074        ...         -0.009431  0.798278   \n",
       "\n",
       "        V23       V24       V25       V26       V27       V28  Class  \\\n",
       "0 -0.110474  0.066928  0.128539 -0.189115  0.133558 -0.021053      0   \n",
       "1  0.101288 -0.339846  0.167170  0.125895 -0.008983  0.014724      0   \n",
       "2  0.909412 -0.689281 -0.327642 -0.139097 -0.055353 -0.059752      0   \n",
       "3 -0.190321 -1.175575  0.647376 -0.221929  0.062723  0.061458      0   \n",
       "4 -0.137458  0.141267 -0.206010  0.502292  0.219422  0.215153      0   \n",
       "\n",
       "   Normalized Amount  \n",
       "0           0.244964  \n",
       "1          -0.342475  \n",
       "2           1.160686  \n",
       "3           0.140534  \n",
       "4          -0.073403  \n",
       "\n",
       "[5 rows x 30 columns]"
      ]
     },
     "execution_count": 2,
     "metadata": {},
     "output_type": "execute_result"
    }
   ],
   "source": [
    "df = pd.read_csv(\"D:\\CHIRAG\\Credit card fraud detection\\creditcard.csv\")\n",
    "#df = df.drop('Time', axis = 1) \n",
    "df[\"Normalized Amount\"] = StandardScaler().fit_transform(df['Amount'].values.reshape(-1, 1))\n",
    "df = df.drop(['Time', 'Amount'], axis = 1)\n",
    "df.head()"
   ]
  },
  {
   "cell_type": "code",
   "execution_count": 4,
   "metadata": {},
   "outputs": [
    {
     "data": {
      "text/plain": [
       "Fraudulent           492\n",
       "Non-fraudulent    284315\n",
       "Name: target, dtype: int64"
      ]
     },
     "execution_count": 4,
     "metadata": {},
     "output_type": "execute_result"
    }
   ],
   "source": [
    "Class = [len(df.loc[df.Class == 1]), len(df.loc[df.Class == 0])]\n",
    "pd.Series(Class, index = ['Fraudulent', 'Non-fraudulent'], name = 'target')"
   ]
  },
  {
   "cell_type": "code",
   "execution_count": 5,
   "metadata": {},
   "outputs": [
    {
     "name": "stdout",
     "output_type": "stream",
     "text": [
      "% of Fraudulent Class = 0.173%\n"
     ]
    }
   ],
   "source": [
    "#Percentage of minority(fraudulent) class\n",
    "print('% of Fraudulent Class = {:.3f}%'.format(len(df[df.Class == 1])*100 / len(df)))"
   ]
  },
  {
   "cell_type": "markdown",
   "metadata": {},
   "source": [
    "Accuracy = TP+TN/Total data\n",
    "\n",
    "Precison = TP/(TP+FP)\n",
    "\n",
    "Recall = TP/(TP+FN)\n",
    "\n",
    "Now for our case recall will be a better option because in these case no. of normal transacations is very high than the no. of fraud cases and sometime a fraud case will be predicted as normal. So, recall will give us a sense of only fraud cases"
   ]
  },
  {
   "cell_type": "code",
   "execution_count": 4,
   "metadata": {},
   "outputs": [],
   "source": [
    "def model(clf) :\n",
    "    model = clf.fit(X_train, y_train)\n",
    "    pred = model.predict(X_test)\n",
    "    print(\"Training Accuracy = {:.3f}\".format(model.score(X_train, y_train)))\n",
    "    print(\"Test Accuracy = {:.3f}\".format(model.score(X_test, y_test)))\n",
    "    print(\"ROC_AUC_score : %.6f\" % (roc_auc_score(y_test, pred)))\n",
    "    #Confusion Matrix\n",
    "    cnf_matrix = confusion_matrix(y_test, pred)\n",
    "    print(\"Recall =\", cnf_matrix[1,1]/(cnf_matrix[1,1]+cnf_matrix[1,0]))\n",
    "    print(\"TP =\", cnf_matrix[1,1])\n",
    "    print(\"TN =\", cnf_matrix[0,0])\n",
    "    print(\"FP =\", cnf_matrix[0,1])\n",
    "    print(\"FN =\", cnf_matrix[1,0])\n",
    "    sns.heatmap(cnf_matrix, cmap = \"coolwarm_r\", annot = True)\n",
    "    plt.title(\"Confusion Matrix\")\n",
    "    plt.xlabel(\"Predicted Class\")\n",
    "    plt.ylabel(\"Real Class\")\n",
    "    plt.show()\n",
    "    print(\"____________________CLASSIFICATION REPORT____________________\")\n",
    "    print(classification_report(y_test, model.predict(X_test)))"
   ]
  },
  {
   "cell_type": "code",
   "execution_count": 42,
   "metadata": {},
   "outputs": [],
   "source": [
    "X = df.drop(columns = 'Class')\n",
    "y = df['Class']\n",
    "#First split data into train and test\n",
    "X_train, X_test, y_train, y_test = train_test_split(X, y, random_state = 0)\n",
    "#For LGB split data into train and validation\n",
    "X1_train, X_valid, y1_train, y_valid = train_test_split(X_train, y_train, random_state = 0)"
   ]
  },
  {
   "cell_type": "code",
   "execution_count": 43,
   "metadata": {
    "collapsed": true
   },
   "outputs": [
    {
     "name": "stdout",
     "output_type": "stream",
     "text": [
      "Training Accuracy = 1.000\n",
      "Test Accuracy = 0.999\n",
      "ROC_AUC_score : 0.862472\n",
      "Recall = 0.725\n",
      "TP = 87\n",
      "TN = 71078\n",
      "FP = 4\n",
      "FN = 33\n"
     ]
    },
    {
     "data": {
      "image/png": "[encoded data removed]",
      "text/plain": [
       "<matplotlib.figure.Figure at 0xe85d5f8>"
      ]
     },
     "metadata": {},
     "output_type": "display_data"
    },
    {
     "name": "stdout",
     "output_type": "stream",
     "text": [
      "____________________CLASSIFICATION REPORT____________________\n",
      "             precision    recall  f1-score   support\n",
      "\n",
      "          0       1.00      1.00      1.00     71082\n",
      "          1       0.96      0.72      0.82       120\n",
      "\n",
      "avg / total       1.00      1.00      1.00     71202\n",
      "\n"
     ]
    }
   ],
   "source": [
    "model(RandomForestClassifier(random_state = 0))"
   ]
  },
  {
   "cell_type": "code",
   "execution_count": 70,
   "metadata": {
    "collapsed": true
   },
   "outputs": [
    {
     "name": "stdout",
     "output_type": "stream",
     "text": [
      "Training Accuracy = 0.999\n",
      "Test Accuracy = 0.999\n",
      "ROC_AUC_score : 0.849880\n",
      "Recall = 0.7\n",
      "TP = 84\n",
      "TN = 71065\n",
      "FP = 17\n",
      "FN = 36\n"
     ]
    },
    {
     "data": {
      "image/png": "[encoded data removed]",
      "text/plain": [
       "<matplotlib.figure.Figure at 0x19e20518>"
      ]
     },
     "metadata": {},
     "output_type": "display_data"
    },
    {
     "name": "stdout",
     "output_type": "stream",
     "text": [
      "____________________CLASSIFICATION REPORT____________________\n",
      "             precision    recall  f1-score   support\n",
      "\n",
      "          0       1.00      1.00      1.00     71082\n",
      "          1       0.83      0.70      0.76       120\n",
      "\n",
      "avg / total       1.00      1.00      1.00     71202\n",
      "\n"
     ]
    }
   ],
   "source": [
    "model(AdaBoostClassifier(random_state = 0))"
   ]
  },
  {
   "cell_type": "code",
   "execution_count": 11,
   "metadata": {
    "collapsed": true
   },
   "outputs": [
    {
     "name": "stderr",
     "output_type": "stream",
     "text": [
      "C:\\Users\\Administrator\\Anaconda3\\lib\\site-packages\\sklearn\\preprocessing\\label.py:151: DeprecationWarning: The truth value of an empty array is ambiguous. Returning False, but in future this will result in an error. Use `array.size > 0` to check that an array is not empty.\n",
      "  if diff:\n",
      "C:\\Users\\Administrator\\Anaconda3\\lib\\site-packages\\sklearn\\preprocessing\\label.py:151: DeprecationWarning: The truth value of an empty array is ambiguous. Returning False, but in future this will result in an error. Use `array.size > 0` to check that an array is not empty.\n",
      "  if diff:\n"
     ]
    },
    {
     "name": "stdout",
     "output_type": "stream",
     "text": [
      "Training Accuracy = 1.000\n"
     ]
    },
    {
     "name": "stderr",
     "output_type": "stream",
     "text": [
      "C:\\Users\\Administrator\\Anaconda3\\lib\\site-packages\\sklearn\\preprocessing\\label.py:151: DeprecationWarning: The truth value of an empty array is ambiguous. Returning False, but in future this will result in an error. Use `array.size > 0` to check that an array is not empty.\n",
      "  if diff:\n"
     ]
    },
    {
     "name": "stdout",
     "output_type": "stream",
     "text": [
      "Test Accuracy = 1.000\n",
      "ROC_AUC_score : 0.887444\n",
      "Recall = 0.775\n",
      "TP = 93\n",
      "TN = 71074\n",
      "FP = 8\n",
      "FN = 27\n"
     ]
    },
    {
     "data": {
      "image/png": "[encoded data removed]",
      "text/plain": [
       "<matplotlib.figure.Figure at 0xb9a87b8>"
      ]
     },
     "metadata": {},
     "output_type": "display_data"
    },
    {
     "name": "stdout",
     "output_type": "stream",
     "text": [
      "____________________CLASSIFICATION REPORT____________________\n",
      "             precision    recall  f1-score   support\n",
      "\n",
      "          0       1.00      1.00      1.00     71082\n",
      "          1       0.92      0.78      0.84       120\n",
      "\n",
      "avg / total       1.00      1.00      1.00     71202\n",
      "\n"
     ]
    },
    {
     "name": "stderr",
     "output_type": "stream",
     "text": [
      "C:\\Users\\Administrator\\Anaconda3\\lib\\site-packages\\sklearn\\preprocessing\\label.py:151: DeprecationWarning: The truth value of an empty array is ambiguous. Returning False, but in future this will result in an error. Use `array.size > 0` to check that an array is not empty.\n",
      "  if diff:\n"
     ]
    }
   ],
   "source": [
    "model(XGBClassifier(random_state = 0))"
   ]
  },
  {
   "cell_type": "code",
   "execution_count": 15,
   "metadata": {
    "collapsed": true
   },
   "outputs": [
    {
     "name": "stderr",
     "output_type": "stream",
     "text": [
      "C:\\Users\\Administrator\\Anaconda3\\lib\\site-packages\\sklearn\\preprocessing\\label.py:151: DeprecationWarning: The truth value of an empty array is ambiguous. Returning False, but in future this will result in an error. Use `array.size > 0` to check that an array is not empty.\n",
      "  if diff:\n",
      "C:\\Users\\Administrator\\Anaconda3\\lib\\site-packages\\sklearn\\preprocessing\\label.py:151: DeprecationWarning: The truth value of an empty array is ambiguous. Returning False, but in future this will result in an error. Use `array.size > 0` to check that an array is not empty.\n",
      "  if diff:\n"
     ]
    },
    {
     "name": "stdout",
     "output_type": "stream",
     "text": [
      "Training Accuracy = 1.000\n"
     ]
    },
    {
     "name": "stderr",
     "output_type": "stream",
     "text": [
      "C:\\Users\\Administrator\\Anaconda3\\lib\\site-packages\\sklearn\\preprocessing\\label.py:151: DeprecationWarning: The truth value of an empty array is ambiguous. Returning False, but in future this will result in an error. Use `array.size > 0` to check that an array is not empty.\n",
      "  if diff:\n"
     ]
    },
    {
     "name": "stdout",
     "output_type": "stream",
     "text": [
      "Test Accuracy = 0.999\n",
      "ROC_AUC_score : 0.904061\n",
      "Recall = 0.8083333333333333\n",
      "TP = 97\n",
      "TN = 71067\n",
      "FP = 15\n",
      "FN = 23\n"
     ]
    },
    {
     "data": {
      "image/png": "[encoded data removed]",
      "text/plain": [
       "<matplotlib.figure.Figure at 0xcb7fba8>"
      ]
     },
     "metadata": {},
     "output_type": "display_data"
    },
    {
     "name": "stdout",
     "output_type": "stream",
     "text": [
      "____________________CLASSIFICATION REPORT____________________\n",
      "             precision    recall  f1-score   support\n",
      "\n",
      "          0       1.00      1.00      1.00     71082\n",
      "          1       0.87      0.81      0.84       120\n",
      "\n",
      "avg / total       1.00      1.00      1.00     71202\n",
      "\n"
     ]
    },
    {
     "name": "stderr",
     "output_type": "stream",
     "text": [
      "C:\\Users\\Administrator\\Anaconda3\\lib\\site-packages\\sklearn\\preprocessing\\label.py:151: DeprecationWarning: The truth value of an empty array is ambiguous. Returning False, but in future this will result in an error. Use `array.size > 0` to check that an array is not empty.\n",
      "  if diff:\n"
     ]
    }
   ],
   "source": [
    "model(lgb.LGBMClassifier(learning_rate= 0.03,\n",
    "                         boosting= 'gbdt',\n",
    "                         objective= 'binary',\n",
    "                         metric= 'binary_logloss',\n",
    "                         max_depth= 5,\n",
    "                         num_leaves= 15, #default 31 and ideally should be <= 2^(max_depth)\n",
    "                         min_child_samples= 100,  \n",
    "                         max_bin= 100,\n",
    "                         subsample= 0.7,\n",
    "                         subsample_freq= 1,\n",
    "                         colsample_bytree= 0.7,\n",
    "                         seed= 0))"
   ]
  },
  {
   "cell_type": "markdown",
   "metadata": {},
   "source": [
    "### LGB(Another Method(same result but works faster))"
   ]
  },
  {
   "cell_type": "code",
   "execution_count": 6,
   "metadata": {},
   "outputs": [],
   "source": [
    "def lgbmodel(params, prob_limit):\n",
    "    lgb_model = lgb.train(params, train_set = lgb.Dataset(X_train, label = y_train),\n",
    "                           verbose_eval = 10)\n",
    "    y_pred = lgb_model.predict(X_test, num_iteration=lgb_model.best_iteration)\n",
    "    for i in range(len(y_pred)):\n",
    "        if y_pred[i] >= prob_limit:\n",
    "            y_pred[i] = 1\n",
    "        else:\n",
    "            y_pred[i] = 0\n",
    "    print(\"Test Accuracy = {:.3f}\".format(accuracy_score(y_test, y_pred)))\n",
    "    print(\"ROC_AUC_score : %.6f\" % (roc_auc_score(y_test, y_pred)))\n",
    "    #Confusion Matrix\n",
    "    cnf_matrix = confusion_matrix(y_test, y_pred)\n",
    "    print(\"Recall =\", cnf_matrix[1,1]/(cnf_matrix[1,1]+cnf_matrix[1,0]))\n",
    "    print(\"TP =\", cnf_matrix[1,1])\n",
    "    print(\"TN =\", cnf_matrix[0,0])\n",
    "    print(\"FP =\", cnf_matrix[0,1])\n",
    "    print(\"FN =\", cnf_matrix[1,0])\n",
    "    sns.heatmap(cnf_matrix, cmap = \"Blues\", annot = True, linewidths = 0.5)\n",
    "    plt.title(\"Confusion Matrix\")\n",
    "    plt.xlabel(\"Predicted Class\")\n",
    "    plt.ylabel(\"Real Class\")\n",
    "    plt.show()\n",
    "    print(\"____________________CLASSIFICATION REPORT____________________\")\n",
    "    print(classification_report(y_test, y_pred))\n",
    "    #lgb.plot_importance(fit_model)"
   ]
  },
  {
   "cell_type": "code",
   "execution_count": 11,
   "metadata": {
    "collapsed": true
   },
   "outputs": [
    {
     "name": "stdout",
     "output_type": "stream",
     "text": [
      "THRESHOLD = 0.50\n",
      "Test Accuracy = 0.999\n",
      "ROC_AUC_score : 0.895679\n",
      "Recall = 0.7916666666666666\n",
      "TP = 95\n",
      "TN = 71060\n",
      "FP = 22\n",
      "FN = 25\n"
     ]
    },
    {
     "data": {
      "image/png": "[encoded data removed]",
      "text/plain": [
       "<matplotlib.figure.Figure at 0xd004a20>"
      ]
     },
     "metadata": {},
     "output_type": "display_data"
    },
    {
     "name": "stdout",
     "output_type": "stream",
     "text": [
      "____________________CLASSIFICATION REPORT____________________\n",
      "             precision    recall  f1-score   support\n",
      "\n",
      "          0       1.00      1.00      1.00     71082\n",
      "          1       0.81      0.79      0.80       120\n",
      "\n",
      "avg / total       1.00      1.00      1.00     71202\n",
      "\n",
      "THRESHOLD = 0.05\n",
      "Test Accuracy = 0.993\n",
      "ROC_AUC_score : 0.913389\n",
      "Recall = 0.8333333333333334\n",
      "TP = 100\n",
      "TN = 70616\n",
      "FP = 466\n",
      "FN = 20\n"
     ]
    },
    {
     "data": {
      "image/png": "[encoded data removed]",
      "text/plain": [
       "<matplotlib.figure.Figure at 0x11198940>"
      ]
     },
     "metadata": {},
     "output_type": "display_data"
    },
    {
     "name": "stdout",
     "output_type": "stream",
     "text": [
      "____________________CLASSIFICATION REPORT____________________\n",
      "             precision    recall  f1-score   support\n",
      "\n",
      "          0       1.00      0.99      1.00     71082\n",
      "          1       0.18      0.83      0.29       120\n",
      "\n",
      "avg / total       1.00      0.99      1.00     71202\n",
      "\n"
     ]
    }
   ],
   "source": [
    "params = {\n",
    "    'learning_rate': 0.03, \n",
    "    'boosting': 'dart', \n",
    "    'objective': 'binary', \n",
    "    'metric': 'auc', #using binary_logloss gave same results\n",
    "    'max_depth': 5,  \n",
    "    'num_leaves': 15, #default 31 and idealy should be <= 2^(max_depth)\n",
    "    #'min_child_samples': 100,  \n",
    "    'max_bin': 100,  \n",
    "    'subsample': 0.7,  \n",
    "    'subsample_freq': 1,  \n",
    "    'colsample_bytree': 0.7,\n",
    "    'seed': 0\n",
    "}\n",
    "print('THRESHOLD = 0.50')\n",
    "lgbmodel(params = params, prob_limit = 0.50)\n",
    "print('THRESHOLD = 0.05')\n",
    "lgbmodel(params, prob_limit = 0.05)"
   ]
  },
  {
   "cell_type": "code",
   "execution_count": 16,
   "metadata": {
    "collapsed": true
   },
   "outputs": [
    {
     "name": "stdout",
     "output_type": "stream",
     "text": [
      "THRESHOLD = 0.50\n",
      "Test Accuracy = 0.999\n",
      "ROC_AUC_score : 0.904061\n",
      "Recall = 0.8083333333333333\n",
      "TP = 97\n",
      "TN = 71067\n",
      "FP = 15\n",
      "FN = 23\n"
     ]
    },
    {
     "data": {
      "image/png": "[encoded data removed]",
      "text/plain": [
       "<matplotlib.figure.Figure at 0x252d2fd0>"
      ]
     },
     "metadata": {},
     "output_type": "display_data"
    },
    {
     "name": "stdout",
     "output_type": "stream",
     "text": [
      "____________________CLASSIFICATION REPORT____________________\n",
      "             precision    recall  f1-score   support\n",
      "\n",
      "          0       1.00      1.00      1.00     71082\n",
      "          1       0.87      0.81      0.84       120\n",
      "\n",
      "avg / total       1.00      1.00      1.00     71202\n",
      "\n",
      "THRESHOLD = 0.05\n",
      "Test Accuracy = 0.999\n",
      "ROC_AUC_score : 0.916357\n",
      "Recall = 0.8333333333333334\n",
      "TP = 100\n",
      "TN = 71038\n",
      "FP = 44\n",
      "FN = 20\n"
     ]
    },
    {
     "data": {
      "image/png": "[encoded data removed]",
      "text/plain": [
       "<matplotlib.figure.Figure at 0x25280898>"
      ]
     },
     "metadata": {},
     "output_type": "display_data"
    },
    {
     "name": "stdout",
     "output_type": "stream",
     "text": [
      "____________________CLASSIFICATION REPORT____________________\n",
      "             precision    recall  f1-score   support\n",
      "\n",
      "          0       1.00      1.00      1.00     71082\n",
      "          1       0.69      0.83      0.76       120\n",
      "\n",
      "avg / total       1.00      1.00      1.00     71202\n",
      "\n"
     ]
    }
   ],
   "source": [
    "params = {\n",
    "    'learning_rate': 0.03, \n",
    "    'boosting': 'gbdt', \n",
    "    'objective': 'binary', \n",
    "    'metric': 'binary_logloss', \n",
    "    'max_depth': 5,  \n",
    "    'num_leaves': 15,\n",
    "    'min_child_samples': 100,  \n",
    "    'max_bin': 100,  \n",
    "    'subsample': 0.7,  \n",
    "    'subsample_freq': 1,  \n",
    "    'colsample_bytree': 0.7,\n",
    "    'seed': 0\n",
    "}\n",
    "print('THRESHOLD = 0.50')\n",
    "lgbmodel(params = params, prob_limit = 0.50)\n",
    "print('THRESHOLD = 0.05')\n",
    "lgbmodel(params, prob_limit = 0.05)"
   ]
  },
  {
   "cell_type": "markdown",
   "metadata": {},
   "source": [
    "1. Learning rate 0.03 gave the best result so I kept learning rate 0.03 for both.\n",
    "2. Choosing boosting method as gbdt performed well as compared to dart as gbdt gives both recall as well as precision better for fraudulent class. Also another point to notice is that, when threshold was kept 0.05, both boosting method gave same recall but precision of gbdt was much better than dart. This means thar gbdt classifies non-fraudulent class correctly with more probability as compared to dart. Thus it proves that gbdt is stronger classifier than dart for this dataset.\n",
    "3. Now looking at threshold results of gbdt boosting method, there are 20 cases where model is predicting fraudulent class as non-fraudulent with more than 95% probability. This suggests that those 20 cases are somewhat tough for any classifer to predict it as fraudulent and all the classifiers work almost same and make same kind of mistakes.\n",
    "4. Now further decreasing the threshold value will definately decrease the precision level of classifier which is second but another important consideration for us(i.e., achieving high recall with maintaining better precision).\n",
    "5. Now, if the aim is to predict all the fraudulent class irrespective of maintaining precision, value of threshold should be kept very low. But still it's not logically any more as FP value will be very high."
   ]
  },
  {
   "cell_type": "code",
   "execution_count": 17,
   "metadata": {
    "collapsed": true
   },
   "outputs": [
    {
     "name": "stdout",
     "output_type": "stream",
     "text": [
      "THRESHOLD = 0.02\n",
      "Test Accuracy = 0.999\n",
      "ROC_AUC_score : 0.920334\n",
      "Recall = 0.8416666666666667\n",
      "TP = 101\n",
      "TN = 71011\n",
      "FP = 71\n",
      "FN = 19\n"
     ]
    },
    {
     "data": {
      "image/png": "[encoded data removed]",
      "text/plain": [
       "<matplotlib.figure.Figure at 0x24db99e8>"
      ]
     },
     "metadata": {},
     "output_type": "display_data"
    },
    {
     "name": "stdout",
     "output_type": "stream",
     "text": [
      "____________________CLASSIFICATION REPORT____________________\n",
      "             precision    recall  f1-score   support\n",
      "\n",
      "          0       1.00      1.00      1.00     71082\n",
      "          1       0.59      0.84      0.69       120\n",
      "\n",
      "avg / total       1.00      1.00      1.00     71202\n",
      "\n",
      "THRESHOLD = 0.003\n",
      "Test Accuracy = 0.995\n",
      "ROC_AUC_score : 0.926648\n",
      "Recall = 0.8583333333333333\n",
      "TP = 103\n",
      "TN = 70724\n",
      "FP = 358\n",
      "FN = 17\n"
     ]
    },
    {
     "data": {
      "image/png": "[encoded data removed]",
      "text/plain": [
       "<matplotlib.figure.Figure at 0x1122d390>"
      ]
     },
     "metadata": {},
     "output_type": "display_data"
    },
    {
     "name": "stdout",
     "output_type": "stream",
     "text": [
      "____________________CLASSIFICATION REPORT____________________\n",
      "             precision    recall  f1-score   support\n",
      "\n",
      "          0       1.00      0.99      1.00     71082\n",
      "          1       0.22      0.86      0.35       120\n",
      "\n",
      "avg / total       1.00      0.99      1.00     71202\n",
      "\n",
      "THRESHOLD = 0.001\n",
      "Test Accuracy = 0.975\n",
      "ROC_AUC_score : 0.946024\n",
      "Recall = 0.9166666666666666\n",
      "TP = 110\n",
      "TN = 69332\n",
      "FP = 1750\n",
      "FN = 10\n"
     ]
    },
    {
     "data": {
      "image/png": "[encoded data removed]",
      "text/plain": [
       "<matplotlib.figure.Figure at 0xc6e1390>"
      ]
     },
     "metadata": {},
     "output_type": "display_data"
    },
    {
     "name": "stdout",
     "output_type": "stream",
     "text": [
      "____________________CLASSIFICATION REPORT____________________\n",
      "             precision    recall  f1-score   support\n",
      "\n",
      "          0       1.00      0.98      0.99     71082\n",
      "          1       0.06      0.92      0.11       120\n",
      "\n",
      "avg / total       1.00      0.98      0.99     71202\n",
      "\n"
     ]
    }
   ],
   "source": [
    "print('THRESHOLD = 0.02')\n",
    "lgbmodel(params, prob_limit = 0.02)\n",
    "print('THRESHOLD = 0.003')\n",
    "lgbmodel(params, prob_limit = 0.003)\n",
    "print('THRESHOLD = 0.001')\n",
    "lgbmodel(params, prob_limit = 0.001)"
   ]
  },
  {
   "cell_type": "markdown",
   "metadata": {},
   "source": [
    "Above we can see with more than 99.7% probability, classifier is predicting 17 fraudulent cases as non-fraudulent and with 99.9% probability, 10 cases.\n",
    "\n",
    "The point here is that all these cases/records will be very difficult for any boosting model to predict correctly as fraudulent even if we use best parameters using hyper-parameter tuning and Grid Search. Thus we should try some another way to train the model i.e., to transform data as much as possible and make it easy for classifier to learn. Now, problem faced here in credit card fraud detection is we don't have a dataset with its features (due to privacy issues). Thus, feature engineering is not possible here in this dataset.\n",
    "\n",
    "Another very important thing is the dataset is highly imbalanced. Thus, only boosting can perform some what good here and no another models (trees).\n",
    "\n",
    "So, let's balance the dataset using different techniques and look if it makes some difference here."
   ]
  },
  {
   "cell_type": "markdown",
   "metadata": {},
   "source": [
    "###### Note: Here I have used probability method of LGB only and not all as xgboost and lgb both gives almost same results (xgboost performiing some what well in most cases) but lgb takes very less computational time as compared to xgboost. Also, xgboost performed well as compare to AdaBoost so we will not use AdaBoost further here."
   ]
  },
  {
   "cell_type": "markdown",
   "metadata": {},
   "source": [
    "# Data Balancing"
   ]
  },
  {
   "cell_type": "markdown",
   "metadata": {},
   "source": [
    "### Down-Sampling"
   ]
  },
  {
   "cell_type": "code",
   "execution_count": 16,
   "metadata": {},
   "outputs": [],
   "source": [
    "train_majority = df[df.Class == 0]\n",
    "train_minority = df[df.Class == 1]\n",
    "train_majority_downsampled = resample(train_majority, replace = False, n_samples = 492, random_state = 0)\n",
    "train_downsampled = pd.concat([train_majority_downsampled, train_minority])"
   ]
  },
  {
   "cell_type": "code",
   "execution_count": 17,
   "metadata": {},
   "outputs": [],
   "source": [
    "X = train_downsampled.drop(columns = 'Class')\n",
    "y = train_downsampled['Class']\n",
    "X_train, X_test, y_train, y_test = train_test_split(X, y, random_state = 0)"
   ]
  },
  {
   "cell_type": "code",
   "execution_count": 18,
   "metadata": {
    "collapsed": true
   },
   "outputs": [
    {
     "name": "stdout",
     "output_type": "stream",
     "text": [
      "Training Accuracy = 0.996\n",
      "Test Accuracy = 0.927\n",
      "ROC_AUC_score : 0.928605\n",
      "Recall = 0.8740157480314961\n",
      "TP = 111\n",
      "TN = 117\n",
      "FP = 2\n",
      "FN = 16\n"
     ]
    },
    {
     "data": {
      "image/png": "[encoded data removed]",
      "text/plain": [
       "<matplotlib.figure.Figure at 0xc8917f0>"
      ]
     },
     "metadata": {},
     "output_type": "display_data"
    },
    {
     "name": "stdout",
     "output_type": "stream",
     "text": [
      "____________________CLASSIFICATION REPORT____________________\n",
      "             precision    recall  f1-score   support\n",
      "\n",
      "          0       0.88      0.98      0.93       119\n",
      "          1       0.98      0.87      0.92       127\n",
      "\n",
      "avg / total       0.93      0.93      0.93       246\n",
      "\n"
     ]
    }
   ],
   "source": [
    "model(RandomForestClassifier(random_state = 0))"
   ]
  },
  {
   "cell_type": "markdown",
   "metadata": {},
   "source": [
    "Although now dataset is balanced so it will nor give higher weights to the fraulent class, still let's see if it performs well on a balanced dataset."
   ]
  },
  {
   "cell_type": "code",
   "execution_count": 20,
   "metadata": {
    "collapsed": true
   },
   "outputs": [
    {
     "name": "stderr",
     "output_type": "stream",
     "text": [
      "C:\\Users\\Administrator\\Anaconda3\\lib\\site-packages\\sklearn\\preprocessing\\label.py:151: DeprecationWarning: The truth value of an empty array is ambiguous. Returning False, but in future this will result in an error. Use `array.size > 0` to check that an array is not empty.\n",
      "  if diff:\n",
      "C:\\Users\\Administrator\\Anaconda3\\lib\\site-packages\\sklearn\\preprocessing\\label.py:151: DeprecationWarning: The truth value of an empty array is ambiguous. Returning False, but in future this will result in an error. Use `array.size > 0` to check that an array is not empty.\n",
      "  if diff:\n",
      "C:\\Users\\Administrator\\Anaconda3\\lib\\site-packages\\sklearn\\preprocessing\\label.py:151: DeprecationWarning: The truth value of an empty array is ambiguous. Returning False, but in future this will result in an error. Use `array.size > 0` to check that an array is not empty.\n",
      "  if diff:\n"
     ]
    },
    {
     "name": "stdout",
     "output_type": "stream",
     "text": [
      "Training Accuracy = 0.999\n",
      "Test Accuracy = 0.943\n",
      "ROC_AUC_score : 0.943823\n",
      "Recall = 0.9212598425196851\n",
      "TP = 117\n",
      "TN = 115\n",
      "FP = 4\n",
      "FN = 10\n"
     ]
    },
    {
     "data": {
      "image/png": "[encoded data removed]",
      "text/plain": [
       "<matplotlib.figure.Figure at 0x25304a90>"
      ]
     },
     "metadata": {},
     "output_type": "display_data"
    },
    {
     "name": "stdout",
     "output_type": "stream",
     "text": [
      "____________________CLASSIFICATION REPORT____________________\n",
      "             precision    recall  f1-score   support\n",
      "\n",
      "          0       0.92      0.97      0.94       119\n",
      "          1       0.97      0.92      0.94       127\n",
      "\n",
      "avg / total       0.94      0.94      0.94       246\n",
      "\n"
     ]
    },
    {
     "name": "stderr",
     "output_type": "stream",
     "text": [
      "C:\\Users\\Administrator\\Anaconda3\\lib\\site-packages\\sklearn\\preprocessing\\label.py:151: DeprecationWarning: The truth value of an empty array is ambiguous. Returning False, but in future this will result in an error. Use `array.size > 0` to check that an array is not empty.\n",
      "  if diff:\n"
     ]
    }
   ],
   "source": [
    "model(XGBClassifier(random_state = 0))"
   ]
  },
  {
   "cell_type": "code",
   "execution_count": 21,
   "metadata": {
    "collapsed": true
   },
   "outputs": [
    {
     "name": "stdout",
     "output_type": "stream",
     "text": [
      "Test Accuracy = 0.923\n",
      "ROC_AUC_score : 0.924403\n",
      "Recall = 0.8740157480314961\n",
      "TP = 111\n",
      "TN = 116\n",
      "FP = 3\n",
      "FN = 16\n"
     ]
    },
    {
     "data": {
      "image/png": "[encoded data removed]",
      "text/plain": [
       "<matplotlib.figure.Figure at 0x252627b8>"
      ]
     },
     "metadata": {},
     "output_type": "display_data"
    },
    {
     "name": "stdout",
     "output_type": "stream",
     "text": [
      "____________________CLASSIFICATION REPORT____________________\n",
      "             precision    recall  f1-score   support\n",
      "\n",
      "          0       0.88      0.97      0.92       119\n",
      "          1       0.97      0.87      0.92       127\n",
      "\n",
      "avg / total       0.93      0.92      0.92       246\n",
      "\n"
     ]
    }
   ],
   "source": [
    "lgbmodel(params, 0.50)"
   ]
  },
  {
   "cell_type": "markdown",
   "metadata": {},
   "source": [
    "Down-Sampling gives high prediction and recall but the main disadvantage of this is that it will lose a lot of useful information from the dataset as it is removing more than 99% of non-fraudulent cases from the dataset. Thus, this should not be a practical approach here.\n",
    "\n",
    "Moreover, xgboost performed very well here as compared to RF and LGB."
   ]
  },
  {
   "cell_type": "markdown",
   "metadata": {},
   "source": [
    "### Up-Sampling"
   ]
  },
  {
   "cell_type": "code",
   "execution_count": 22,
   "metadata": {},
   "outputs": [
    {
     "data": {
      "text/plain": [
       "(213233, 30)"
      ]
     },
     "execution_count": 22,
     "metadata": {},
     "output_type": "execute_result"
    }
   ],
   "source": [
    "#Note in up sampling, first split the minority class data into train and test set and then up-sample the train data and test it with test data\n",
    "X = df.drop(columns = 'Class')\n",
    "y = df['Class']\n",
    "#First split data into train and test\n",
    "X_train_us, X_test, y_train_us, y_test = train_test_split(X, y, random_state = 0)\n",
    "#Now resample the train data\n",
    "df_us = pd.concat([X_train_us, y_train_us], axis = 1)\n",
    "train_majority = df_us[df_us.Class == 0]\n",
    "train_minority = df_us[df_us.Class == 1]\n",
    "train_majority.shape"
   ]
  },
  {
   "cell_type": "code",
   "execution_count": 23,
   "metadata": {},
   "outputs": [],
   "source": [
    "train_minority_upsampled = resample(train_minority, replace = True, n_samples = 213233, random_state = 0)\n",
    "train_upsampled = pd.concat([train_minority_upsampled, train_majority])\n",
    "X_train = train_upsampled.drop(columns = 'Class')\n",
    "y_train = train_upsampled['Class']"
   ]
  },
  {
   "cell_type": "code",
   "execution_count": 37,
   "metadata": {
    "collapsed": true
   },
   "outputs": [
    {
     "name": "stdout",
     "output_type": "stream",
     "text": [
      "Training Accuracy = 1.000\n",
      "Test Accuracy = 1.000\n",
      "ROC_AUC_score : 0.891617\n",
      "Recall = 0.7833333333333333\n",
      "TP = 94\n",
      "TN = 71075\n",
      "FP = 7\n",
      "FN = 26\n"
     ]
    },
    {
     "data": {
      "image/png": "[encoded data removed]",
      "text/plain": [
       "<matplotlib.figure.Figure at 0x201eac50>"
      ]
     },
     "metadata": {},
     "output_type": "display_data"
    },
    {
     "name": "stdout",
     "output_type": "stream",
     "text": [
      "____________________CLASSIFICATION REPORT____________________\n",
      "             precision    recall  f1-score   support\n",
      "\n",
      "          0       1.00      1.00      1.00     71082\n",
      "          1       0.93      0.78      0.85       120\n",
      "\n",
      "avg / total       1.00      1.00      1.00     71202\n",
      "\n"
     ]
    }
   ],
   "source": [
    "model(RandomForestClassifier(random_state = 0))"
   ]
  },
  {
   "cell_type": "code",
   "execution_count": 24,
   "metadata": {
    "collapsed": true
   },
   "outputs": [
    {
     "name": "stderr",
     "output_type": "stream",
     "text": [
      "C:\\Users\\Administrator\\Anaconda3\\lib\\site-packages\\sklearn\\preprocessing\\label.py:151: DeprecationWarning: The truth value of an empty array is ambiguous. Returning False, but in future this will result in an error. Use `array.size > 0` to check that an array is not empty.\n",
      "  if diff:\n",
      "C:\\Users\\Administrator\\Anaconda3\\lib\\site-packages\\sklearn\\preprocessing\\label.py:151: DeprecationWarning: The truth value of an empty array is ambiguous. Returning False, but in future this will result in an error. Use `array.size > 0` to check that an array is not empty.\n",
      "  if diff:\n"
     ]
    },
    {
     "name": "stdout",
     "output_type": "stream",
     "text": [
      "Training Accuracy = 0.998\n"
     ]
    },
    {
     "name": "stderr",
     "output_type": "stream",
     "text": [
      "C:\\Users\\Administrator\\Anaconda3\\lib\\site-packages\\sklearn\\preprocessing\\label.py:151: DeprecationWarning: The truth value of an empty array is ambiguous. Returning False, but in future this will result in an error. Use `array.size > 0` to check that an array is not empty.\n",
      "  if diff:\n"
     ]
    },
    {
     "name": "stdout",
     "output_type": "stream",
     "text": [
      "Test Accuracy = 0.995\n",
      "ROC_AUC_score : 0.926845\n",
      "Recall = 0.8583333333333333\n",
      "TP = 103\n",
      "TN = 70752\n",
      "FP = 330\n",
      "FN = 17\n"
     ]
    },
    {
     "data": {
      "image/png": "[encoded data removed]",
      "text/plain": [
       "<matplotlib.figure.Figure at 0x1c1de588>"
      ]
     },
     "metadata": {},
     "output_type": "display_data"
    },
    {
     "name": "stdout",
     "output_type": "stream",
     "text": [
      "____________________CLASSIFICATION REPORT____________________\n",
      "             precision    recall  f1-score   support\n",
      "\n",
      "          0       1.00      1.00      1.00     71082\n",
      "          1       0.24      0.86      0.37       120\n",
      "\n",
      "avg / total       1.00      1.00      1.00     71202\n",
      "\n"
     ]
    },
    {
     "name": "stderr",
     "output_type": "stream",
     "text": [
      "C:\\Users\\Administrator\\Anaconda3\\lib\\site-packages\\sklearn\\preprocessing\\label.py:151: DeprecationWarning: The truth value of an empty array is ambiguous. Returning False, but in future this will result in an error. Use `array.size > 0` to check that an array is not empty.\n",
      "  if diff:\n"
     ]
    }
   ],
   "source": [
    "model(XGBClassifier(random_state= 0))"
   ]
  },
  {
   "cell_type": "code",
   "execution_count": 31,
   "metadata": {
    "collapsed": true
   },
   "outputs": [
    {
     "name": "stdout",
     "output_type": "stream",
     "text": [
      "Test Accuracy = 0.994\n",
      "ROC_AUC_score : 0.930449\n",
      "Recall = 0.8666666666666667\n",
      "TP = 104\n",
      "TN = 70672\n",
      "FP = 410\n",
      "FN = 16\n"
     ]
    },
    {
     "data": {
      "image/png": "[encoded data removed]",
      "text/plain": [
       "<matplotlib.figure.Figure at 0x2016d3c8>"
      ]
     },
     "metadata": {},
     "output_type": "display_data"
    },
    {
     "name": "stdout",
     "output_type": "stream",
     "text": [
      "____________________CLASSIFICATION REPORT____________________\n",
      "             precision    recall  f1-score   support\n",
      "\n",
      "          0       1.00      0.99      1.00     71082\n",
      "          1       0.20      0.87      0.33       120\n",
      "\n",
      "avg / total       1.00      0.99      1.00     71202\n",
      "\n"
     ]
    }
   ],
   "source": [
    "lgbmodel(params, 0.50)"
   ]
  },
  {
   "cell_type": "markdown",
   "metadata": {},
   "source": [
    "Boosting method performed well here but in terms of recall only(very low precision). RF gave high precision with slightly low recall. Also F1-score is high for RF.\n",
    "\n",
    "Now, the down side of this method here is up-sampling will restrict learning of models due to repeatation of fraudulent cases so many times and eventually will overfit also. Also it costs us very expensive computationally."
   ]
  },
  {
   "cell_type": "markdown",
   "metadata": {},
   "source": [
    "Another famous data balancing technique is using SMOTE family. Let's apply them"
   ]
  },
  {
   "cell_type": "markdown",
   "metadata": {},
   "source": [
    "## SMOTE FAMILY"
   ]
  },
  {
   "cell_type": "markdown",
   "metadata": {},
   "source": [
    "### 1. SMOTE Regular"
   ]
  },
  {
   "cell_type": "code",
   "execution_count": 39,
   "metadata": {},
   "outputs": [],
   "source": [
    "sm = SMOTE(random_state = 0)\n",
    "X = df.drop(columns = 'Class')\n",
    "y = df['Class']\n",
    "X_train_sm, X_test, y_train_sm, y_test = train_test_split(X, y, random_state = 0)\n",
    "X_train, y_train = sm.fit_sample(X_train_sm, y_train_sm)\n",
    "X_test = np.array(X_test)\n",
    "y_test = np.array(y_test)"
   ]
  },
  {
   "cell_type": "code",
   "execution_count": 45,
   "metadata": {
    "collapsed": true
   },
   "outputs": [
    {
     "name": "stdout",
     "output_type": "stream",
     "text": [
      "Training Accuracy = 1.000\n",
      "Test Accuracy = 1.000\n",
      "ROC_AUC_score : 0.920728\n",
      "Recall = 0.8416666666666667\n",
      "TP = 101\n",
      "TN = 71067\n",
      "FP = 15\n",
      "FN = 19\n"
     ]
    },
    {
     "data": {
      "image/png": "[encoded data removed]",
      "text/plain": [
       "<matplotlib.figure.Figure at 0x24d1a8d0>"
      ]
     },
     "metadata": {},
     "output_type": "display_data"
    },
    {
     "name": "stdout",
     "output_type": "stream",
     "text": [
      "____________________CLASSIFICATION REPORT____________________\n",
      "             precision    recall  f1-score   support\n",
      "\n",
      "          0       1.00      1.00      1.00     71082\n",
      "          1       0.87      0.84      0.86       120\n",
      "\n",
      "avg / total       1.00      1.00      1.00     71202\n",
      "\n"
     ]
    }
   ],
   "source": [
    "model(RandomForestClassifier(random_state = 0))"
   ]
  },
  {
   "cell_type": "code",
   "execution_count": 29,
   "metadata": {
    "collapsed": true
   },
   "outputs": [
    {
     "name": "stderr",
     "output_type": "stream",
     "text": [
      "C:\\Users\\Administrator\\Anaconda3\\lib\\site-packages\\sklearn\\preprocessing\\label.py:151: DeprecationWarning: The truth value of an empty array is ambiguous. Returning False, but in future this will result in an error. Use `array.size > 0` to check that an array is not empty.\n",
      "  if diff:\n",
      "C:\\Users\\Administrator\\Anaconda3\\lib\\site-packages\\sklearn\\preprocessing\\label.py:151: DeprecationWarning: The truth value of an empty array is ambiguous. Returning False, but in future this will result in an error. Use `array.size > 0` to check that an array is not empty.\n",
      "  if diff:\n"
     ]
    },
    {
     "name": "stdout",
     "output_type": "stream",
     "text": [
      "Training Accuracy = 0.981\n"
     ]
    },
    {
     "name": "stderr",
     "output_type": "stream",
     "text": [
      "C:\\Users\\Administrator\\Anaconda3\\lib\\site-packages\\sklearn\\preprocessing\\label.py:151: DeprecationWarning: The truth value of an empty array is ambiguous. Returning False, but in future this will result in an error. Use `array.size > 0` to check that an array is not empty.\n",
      "  if diff:\n"
     ]
    },
    {
     "name": "stdout",
     "output_type": "stream",
     "text": [
      "Test Accuracy = 0.989\n",
      "ROC_AUC_score : 0.932288\n",
      "Recall = 0.875\n",
      "TP = 105\n",
      "TN = 70341\n",
      "FP = 741\n",
      "FN = 15\n"
     ]
    },
    {
     "data": {
      "image/png": "[encoded data removed]",
      "text/plain": [
       "<matplotlib.figure.Figure at 0x20602438>"
      ]
     },
     "metadata": {},
     "output_type": "display_data"
    },
    {
     "name": "stdout",
     "output_type": "stream",
     "text": [
      "____________________CLASSIFICATION REPORT____________________\n",
      "             precision    recall  f1-score   support\n",
      "\n",
      "          0       1.00      0.99      0.99     71082\n",
      "          1       0.12      0.88      0.22       120\n",
      "\n",
      "avg / total       1.00      0.99      0.99     71202\n",
      "\n"
     ]
    },
    {
     "name": "stderr",
     "output_type": "stream",
     "text": [
      "C:\\Users\\Administrator\\Anaconda3\\lib\\site-packages\\sklearn\\preprocessing\\label.py:151: DeprecationWarning: The truth value of an empty array is ambiguous. Returning False, but in future this will result in an error. Use `array.size > 0` to check that an array is not empty.\n",
      "  if diff:\n"
     ]
    }
   ],
   "source": [
    "model(XGBClassifier(random_state = 0))"
   ]
  },
  {
   "cell_type": "code",
   "execution_count": 46,
   "metadata": {
    "collapsed": true
   },
   "outputs": [
    {
     "name": "stdout",
     "output_type": "stream",
     "text": [
      "Test Accuracy = 0.991\n",
      "ROC_AUC_score : 0.932857\n",
      "Recall = 0.875\n",
      "TP = 105\n",
      "TN = 70422\n",
      "FP = 660\n",
      "FN = 15\n"
     ]
    },
    {
     "data": {
      "image/png": "[encoded data removed]",
      "text/plain": [
       "<matplotlib.figure.Figure at 0xc6ea780>"
      ]
     },
     "metadata": {},
     "output_type": "display_data"
    },
    {
     "name": "stdout",
     "output_type": "stream",
     "text": [
      "____________________CLASSIFICATION REPORT____________________\n",
      "             precision    recall  f1-score   support\n",
      "\n",
      "          0       1.00      0.99      1.00     71082\n",
      "          1       0.14      0.88      0.24       120\n",
      "\n",
      "avg / total       1.00      0.99      0.99     71202\n",
      "\n"
     ]
    }
   ],
   "source": [
    "lgbmodel(params, 0.50)"
   ]
  },
  {
   "cell_type": "markdown",
   "metadata": {},
   "source": [
    "RF performed very well here. It gives better recall with maintaining precision and F1-score. Boosting gives high recall but with worst precision and F1-score."
   ]
  },
  {
   "cell_type": "markdown",
   "metadata": {},
   "source": [
    "### 2. SMOTE BorderLine 1"
   ]
  },
  {
   "cell_type": "code",
   "execution_count": 19,
   "metadata": {},
   "outputs": [],
   "source": [
    "sm = SMOTE(random_state = 0, kind = 'borderline1')\n",
    "X = df.drop(columns = 'Class')\n",
    "y = df['Class']\n",
    "X_train_sm, X_test, y_train_sm, y_test = train_test_split(X, y, random_state = 0)\n",
    "X_train, y_train = sm.fit_sample(X_train_sm, y_train_sm)\n",
    "X_test = np.array(X_test)\n",
    "y_test = np.array(y_test)"
   ]
  },
  {
   "cell_type": "code",
   "execution_count": 20,
   "metadata": {
    "collapsed": true
   },
   "outputs": [
    {
     "name": "stdout",
     "output_type": "stream",
     "text": [
      "Training Accuracy = 1.000\n",
      "Test Accuracy = 0.999\n",
      "ROC_AUC_score : 0.887437\n",
      "Recall = 0.775\n",
      "TP = 93\n",
      "TN = 71073\n",
      "FP = 9\n",
      "FN = 27\n"
     ]
    },
    {
     "data": {
      "image/png": "[encoded data removed]",
      "text/plain": [
       "<matplotlib.figure.Figure at 0xc8305c0>"
      ]
     },
     "metadata": {},
     "output_type": "display_data"
    },
    {
     "name": "stdout",
     "output_type": "stream",
     "text": [
      "____________________CLASSIFICATION REPORT____________________\n",
      "             precision    recall  f1-score   support\n",
      "\n",
      "          0       1.00      1.00      1.00     71082\n",
      "          1       0.91      0.78      0.84       120\n",
      "\n",
      "avg / total       1.00      1.00      1.00     71202\n",
      "\n"
     ]
    }
   ],
   "source": [
    "model(RandomForestClassifier(random_state = 0))"
   ]
  },
  {
   "cell_type": "code",
   "execution_count": 15,
   "metadata": {
    "collapsed": true
   },
   "outputs": [
    {
     "name": "stderr",
     "output_type": "stream",
     "text": [
      "C:\\Users\\Administrator\\Anaconda3\\lib\\site-packages\\sklearn\\preprocessing\\label.py:151: DeprecationWarning: The truth value of an empty array is ambiguous. Returning False, but in future this will result in an error. Use `array.size > 0` to check that an array is not empty.\n",
      "  if diff:\n",
      "C:\\Users\\Administrator\\Anaconda3\\lib\\site-packages\\sklearn\\preprocessing\\label.py:151: DeprecationWarning: The truth value of an empty array is ambiguous. Returning False, but in future this will result in an error. Use `array.size > 0` to check that an array is not empty.\n",
      "  if diff:\n"
     ]
    },
    {
     "name": "stdout",
     "output_type": "stream",
     "text": [
      "Training Accuracy = 0.999\n"
     ]
    },
    {
     "name": "stderr",
     "output_type": "stream",
     "text": [
      "C:\\Users\\Administrator\\Anaconda3\\lib\\site-packages\\sklearn\\preprocessing\\label.py:151: DeprecationWarning: The truth value of an empty array is ambiguous. Returning False, but in future this will result in an error. Use `array.size > 0` to check that an array is not empty.\n",
      "  if diff:\n"
     ]
    },
    {
     "name": "stdout",
     "output_type": "stream",
     "text": [
      "Test Accuracy = 0.997\n",
      "ROC_AUC_score : 0.923727\n",
      "Recall = 0.85\n",
      "TP = 102\n",
      "TN = 70901\n",
      "FP = 181\n",
      "FN = 18\n"
     ]
    },
    {
     "data": {
      "image/png": "[encoded data removed]",
      "text/plain": [
       "<matplotlib.figure.Figure at 0xc71ef98>"
      ]
     },
     "metadata": {},
     "output_type": "display_data"
    },
    {
     "name": "stdout",
     "output_type": "stream",
     "text": [
      "____________________CLASSIFICATION REPORT____________________\n",
      "             precision    recall  f1-score   support\n",
      "\n",
      "          0       1.00      1.00      1.00     71082\n",
      "          1       0.36      0.85      0.51       120\n",
      "\n",
      "avg / total       1.00      1.00      1.00     71202\n",
      "\n"
     ]
    },
    {
     "name": "stderr",
     "output_type": "stream",
     "text": [
      "C:\\Users\\Administrator\\Anaconda3\\lib\\site-packages\\sklearn\\preprocessing\\label.py:151: DeprecationWarning: The truth value of an empty array is ambiguous. Returning False, but in future this will result in an error. Use `array.size > 0` to check that an array is not empty.\n",
      "  if diff:\n"
     ]
    }
   ],
   "source": [
    "model(XGBClassifier(random_state = 0))"
   ]
  },
  {
   "cell_type": "code",
   "execution_count": 48,
   "metadata": {
    "collapsed": true
   },
   "outputs": [
    {
     "name": "stdout",
     "output_type": "stream",
     "text": [
      "Test Accuracy = 0.996\n",
      "ROC_AUC_score : 0.931504\n",
      "Recall = 0.8666666666666667\n",
      "TP = 104\n",
      "TN = 70822\n",
      "FP = 260\n",
      "FN = 16\n"
     ]
    },
    {
     "data": {
      "image/png": "[encoded data removed]",
      "text/plain": [
       "<matplotlib.figure.Figure at 0x201d3f60>"
      ]
     },
     "metadata": {},
     "output_type": "display_data"
    },
    {
     "name": "stdout",
     "output_type": "stream",
     "text": [
      "____________________CLASSIFICATION REPORT____________________\n",
      "             precision    recall  f1-score   support\n",
      "\n",
      "          0       1.00      1.00      1.00     71082\n",
      "          1       0.29      0.87      0.43       120\n",
      "\n",
      "avg / total       1.00      1.00      1.00     71202\n",
      "\n"
     ]
    }
   ],
   "source": [
    "lgbmodel(params, 0.50)"
   ]
  },
  {
   "cell_type": "markdown",
   "metadata": {},
   "source": [
    "### 3. SMOTE BorderLine 2"
   ]
  },
  {
   "cell_type": "code",
   "execution_count": 49,
   "metadata": {},
   "outputs": [],
   "source": [
    "sm = SMOTE(random_state = 0, kind = 'borderline2')\n",
    "X = df.drop(columns = 'Class')\n",
    "y = df['Class']\n",
    "X_train_sm, X_test, y_train_sm, y_test = train_test_split(X, y, random_state = 0)\n",
    "X_train, y_train = sm.fit_sample(X_train_sm, y_train_sm)\n",
    "X_test = np.array(X_test)\n",
    "y_test = np.array(y_test)"
   ]
  },
  {
   "cell_type": "code",
   "execution_count": 26,
   "metadata": {
    "collapsed": true
   },
   "outputs": [
    {
     "name": "stdout",
     "output_type": "stream",
     "text": [
      "Training Accuracy = 1.000\n",
      "Test Accuracy = 0.999\n",
      "ROC_AUC_score : 0.891547\n",
      "Recall = 0.7833333333333333\n",
      "TP = 94\n",
      "TN = 71065\n",
      "FP = 17\n",
      "FN = 26\n"
     ]
    },
    {
     "data": {
      "image/png": "[encoded data removed]",
      "text/plain": [
       "<matplotlib.figure.Figure at 0xc818d68>"
      ]
     },
     "metadata": {},
     "output_type": "display_data"
    },
    {
     "name": "stdout",
     "output_type": "stream",
     "text": [
      "____________________CLASSIFICATION REPORT____________________\n",
      "             precision    recall  f1-score   support\n",
      "\n",
      "          0       1.00      1.00      1.00     71082\n",
      "          1       0.85      0.78      0.81       120\n",
      "\n",
      "avg / total       1.00      1.00      1.00     71202\n",
      "\n"
     ]
    }
   ],
   "source": [
    "model(RandomForestClassifier(random_state = 0))"
   ]
  },
  {
   "cell_type": "code",
   "execution_count": 27,
   "metadata": {
    "collapsed": true
   },
   "outputs": [
    {
     "name": "stderr",
     "output_type": "stream",
     "text": [
      "C:\\Users\\Administrator\\Anaconda3\\lib\\site-packages\\sklearn\\preprocessing\\label.py:151: DeprecationWarning: The truth value of an empty array is ambiguous. Returning False, but in future this will result in an error. Use `array.size > 0` to check that an array is not empty.\n",
      "  if diff:\n",
      "C:\\Users\\Administrator\\Anaconda3\\lib\\site-packages\\sklearn\\preprocessing\\label.py:151: DeprecationWarning: The truth value of an empty array is ambiguous. Returning False, but in future this will result in an error. Use `array.size > 0` to check that an array is not empty.\n",
      "  if diff:\n"
     ]
    },
    {
     "name": "stdout",
     "output_type": "stream",
     "text": [
      "Training Accuracy = 0.996\n"
     ]
    },
    {
     "name": "stderr",
     "output_type": "stream",
     "text": [
      "C:\\Users\\Administrator\\Anaconda3\\lib\\site-packages\\sklearn\\preprocessing\\label.py:151: DeprecationWarning: The truth value of an empty array is ambiguous. Returning False, but in future this will result in an error. Use `array.size > 0` to check that an array is not empty.\n",
      "  if diff:\n"
     ]
    },
    {
     "name": "stdout",
     "output_type": "stream",
     "text": [
      "Test Accuracy = 0.995\n",
      "ROC_AUC_score : 0.930885\n",
      "Recall = 0.8666666666666667\n",
      "TP = 104\n",
      "TN = 70734\n",
      "FP = 348\n",
      "FN = 16\n"
     ]
    },
    {
     "data": {
      "image/png": "[encoded data removed]",
      "text/plain": [
       "<matplotlib.figure.Figure at 0xc8186d8>"
      ]
     },
     "metadata": {},
     "output_type": "display_data"
    },
    {
     "name": "stdout",
     "output_type": "stream",
     "text": [
      "____________________CLASSIFICATION REPORT____________________\n",
      "             precision    recall  f1-score   support\n",
      "\n",
      "          0       1.00      1.00      1.00     71082\n",
      "          1       0.23      0.87      0.36       120\n",
      "\n",
      "avg / total       1.00      0.99      1.00     71202\n",
      "\n"
     ]
    },
    {
     "name": "stderr",
     "output_type": "stream",
     "text": [
      "C:\\Users\\Administrator\\Anaconda3\\lib\\site-packages\\sklearn\\preprocessing\\label.py:151: DeprecationWarning: The truth value of an empty array is ambiguous. Returning False, but in future this will result in an error. Use `array.size > 0` to check that an array is not empty.\n",
      "  if diff:\n"
     ]
    }
   ],
   "source": [
    "model(XGBClassifier(random_state = 0))"
   ]
  },
  {
   "cell_type": "code",
   "execution_count": null,
   "metadata": {
    "collapsed": true
   },
   "outputs": [
    {
     "name": "stdout",
     "output_type": "stream",
     "text": [
      "Test Accuracy = 0.991\n",
      "ROC_AUC_score : 0.937249\n",
      "Recall = 0.8833333333333333\n",
      "TP = 106\n",
      "TN = 70454\n",
      "FP = 628\n",
      "FN = 14\n"
     ]
    },
    {
     "data": {
      "image/png": "[encoded data removed]",
      "text/plain": [
       "<matplotlib.figure.Figure at 0x24d8be80>"
      ]
     },
     "metadata": {},
     "output_type": "display_data"
    },
    {
     "name": "stdout",
     "output_type": "stream",
     "text": [
      "____________________CLASSIFICATION REPORT____________________\n",
      "             precision    recall  f1-score   support\n",
      "\n",
      "          0       1.00      0.99      1.00     71082\n",
      "          1       0.14      0.88      0.25       120\n",
      "\n",
      "avg / total       1.00      0.99      0.99     71202\n",
      "\n"
     ]
    }
   ],
   "source": [
    "lgbmodel(params, 0.50)"
   ]
  },
  {
   "cell_type": "markdown",
   "metadata": {},
   "source": [
    "Both borderline method performed same as upsampling in terms of recall. Further precision and F1-score of boosters is improved as compared to up-sampling. Borderline 2 gives better precision and F1-score than borderline 1."
   ]
  },
  {
   "cell_type": "markdown",
   "metadata": {},
   "source": [
    "### 4. SMOTE SVM"
   ]
  },
  {
   "cell_type": "code",
   "execution_count": 7,
   "metadata": {},
   "outputs": [],
   "source": [
    "sm = SMOTE(random_state = 0, kind = 'svm')\n",
    "X = df.drop(columns = 'Class')\n",
    "y = df['Class']\n",
    "X_train_sm, X_test, y_train_sm, y_test = train_test_split(X, y, random_state = 0)\n",
    "X_train, y_train = sm.fit_sample(X_train_sm, y_train_sm)\n",
    "X_test = np.array(X_test)\n",
    "y_test = np.array(y_test)"
   ]
  },
  {
   "cell_type": "code",
   "execution_count": 30,
   "metadata": {
    "collapsed": true
   },
   "outputs": [
    {
     "name": "stdout",
     "output_type": "stream",
     "text": [
      "Training Accuracy = 1.000\n",
      "Test Accuracy = 1.000\n",
      "ROC_AUC_score : 0.916582\n",
      "Recall = 0.8333333333333334\n",
      "TP = 100\n",
      "TN = 71070\n",
      "FP = 12\n",
      "FN = 20\n"
     ]
    },
    {
     "data": {
      "image/png": "[encoded data removed]",
      "text/plain": [
       "<matplotlib.figure.Figure at 0xb4a3f60>"
      ]
     },
     "metadata": {},
     "output_type": "display_data"
    },
    {
     "name": "stdout",
     "output_type": "stream",
     "text": [
      "____________________CLASSIFICATION REPORT____________________\n",
      "             precision    recall  f1-score   support\n",
      "\n",
      "          0       1.00      1.00      1.00     71082\n",
      "          1       0.89      0.83      0.86       120\n",
      "\n",
      "avg / total       1.00      1.00      1.00     71202\n",
      "\n"
     ]
    }
   ],
   "source": [
    "model(RandomForestClassifier(random_state = 0))"
   ]
  },
  {
   "cell_type": "code",
   "execution_count": 31,
   "metadata": {
    "collapsed": true
   },
   "outputs": [
    {
     "name": "stderr",
     "output_type": "stream",
     "text": [
      "C:\\Users\\Administrator\\Anaconda3\\lib\\site-packages\\sklearn\\preprocessing\\label.py:151: DeprecationWarning: The truth value of an empty array is ambiguous. Returning False, but in future this will result in an error. Use `array.size > 0` to check that an array is not empty.\n",
      "  if diff:\n",
      "C:\\Users\\Administrator\\Anaconda3\\lib\\site-packages\\sklearn\\preprocessing\\label.py:151: DeprecationWarning: The truth value of an empty array is ambiguous. Returning False, but in future this will result in an error. Use `array.size > 0` to check that an array is not empty.\n",
      "  if diff:\n"
     ]
    },
    {
     "name": "stdout",
     "output_type": "stream",
     "text": [
      "Training Accuracy = 0.999\n"
     ]
    },
    {
     "name": "stderr",
     "output_type": "stream",
     "text": [
      "C:\\Users\\Administrator\\Anaconda3\\lib\\site-packages\\sklearn\\preprocessing\\label.py:151: DeprecationWarning: The truth value of an empty array is ambiguous. Returning False, but in future this will result in an error. Use `array.size > 0` to check that an array is not empty.\n",
      "  if diff:\n"
     ]
    },
    {
     "name": "stdout",
     "output_type": "stream",
     "text": [
      "Test Accuracy = 0.998\n",
      "ROC_AUC_score : 0.928161\n",
      "Recall = 0.8583333333333333\n",
      "TP = 103\n",
      "TN = 70939\n",
      "FP = 143\n",
      "FN = 17\n"
     ]
    },
    {
     "data": {
      "image/png": "[encoded data removed]",
      "text/plain": [
       "<matplotlib.figure.Figure at 0xc711c18>"
      ]
     },
     "metadata": {},
     "output_type": "display_data"
    },
    {
     "name": "stdout",
     "output_type": "stream",
     "text": [
      "____________________CLASSIFICATION REPORT____________________\n",
      "             precision    recall  f1-score   support\n",
      "\n",
      "          0       1.00      1.00      1.00     71082\n",
      "          1       0.42      0.86      0.56       120\n",
      "\n",
      "avg / total       1.00      1.00      1.00     71202\n",
      "\n"
     ]
    },
    {
     "name": "stderr",
     "output_type": "stream",
     "text": [
      "C:\\Users\\Administrator\\Anaconda3\\lib\\site-packages\\sklearn\\preprocessing\\label.py:151: DeprecationWarning: The truth value of an empty array is ambiguous. Returning False, but in future this will result in an error. Use `array.size > 0` to check that an array is not empty.\n",
      "  if diff:\n"
     ]
    }
   ],
   "source": [
    "model(XGBClassifier(random_state = 0))"
   ]
  },
  {
   "cell_type": "code",
   "execution_count": 10,
   "metadata": {
    "collapsed": true
   },
   "outputs": [
    {
     "name": "stdout",
     "output_type": "stream",
     "text": [
      "Test Accuracy = 0.997\n",
      "ROC_AUC_score : 0.931758\n",
      "Recall = 0.8666666666666667\n",
      "TP = 104\n",
      "TN = 70858\n",
      "FP = 224\n",
      "FN = 16\n"
     ]
    },
    {
     "data": {
      "image/png": "[encoded data removed]",
      "text/plain": [
       "<matplotlib.figure.Figure at 0xc792400>"
      ]
     },
     "metadata": {},
     "output_type": "display_data"
    },
    {
     "name": "stdout",
     "output_type": "stream",
     "text": [
      "____________________CLASSIFICATION REPORT____________________\n",
      "             precision    recall  f1-score   support\n",
      "\n",
      "          0       1.00      1.00      1.00     71082\n",
      "          1       0.32      0.87      0.46       120\n",
      "\n",
      "avg / total       1.00      1.00      1.00     71202\n",
      "\n"
     ]
    }
   ],
   "source": [
    "lgbmodel(params, 0.50)"
   ]
  },
  {
   "cell_type": "markdown",
   "metadata": {},
   "source": [
    "RF performed very well giving high recall, precision and F1-score. Boosters again gave good recall but with compromising precision and F1-score."
   ]
  },
  {
   "cell_type": "markdown",
   "metadata": {},
   "source": [
    "### ADASYN"
   ]
  },
  {
   "cell_type": "code",
   "execution_count": 11,
   "metadata": {},
   "outputs": [],
   "source": [
    "adasyn = ADASYN(random_state = 0)\n",
    "X = df.drop(columns = 'Class')\n",
    "y = df['Class']\n",
    "X_train_as, X_test, y_train_as, y_test = train_test_split(X, y, random_state = 0)\n",
    "X_train, y_train = adasyn.fit_sample(X_train_as, y_train_as)\n",
    "X_test = np.array(X_test)\n",
    "y_test = np.array(y_test)"
   ]
  },
  {
   "cell_type": "code",
   "execution_count": 39,
   "metadata": {},
   "outputs": [
    {
     "data": {
      "text/plain": [
       "((426479, 29), (71202, 29), (426479,), (71202,))"
      ]
     },
     "execution_count": 39,
     "metadata": {},
     "output_type": "execute_result"
    }
   ],
   "source": [
    "X_train.shape, X_test.shape, y_train.shape, y_test.shape"
   ]
  },
  {
   "cell_type": "code",
   "execution_count": 41,
   "metadata": {
    "collapsed": true
   },
   "outputs": [
    {
     "name": "stdout",
     "output_type": "stream",
     "text": [
      "Training Accuracy = 1.000\n",
      "Test Accuracy = 0.999\n",
      "ROC_AUC_score : 0.895700\n",
      "Recall = 0.7916666666666666\n",
      "TP = 95\n",
      "TN = 71063\n",
      "FP = 19\n",
      "FN = 25\n"
     ]
    },
    {
     "data": {
      "image/png": "[encoded data removed]",
      "text/plain": [
       "<matplotlib.figure.Figure at 0xc743ef0>"
      ]
     },
     "metadata": {},
     "output_type": "display_data"
    },
    {
     "name": "stdout",
     "output_type": "stream",
     "text": [
      "____________________CLASSIFICATION REPORT____________________\n",
      "             precision    recall  f1-score   support\n",
      "\n",
      "          0       1.00      1.00      1.00     71082\n",
      "          1       0.83      0.79      0.81       120\n",
      "\n",
      "avg / total       1.00      1.00      1.00     71202\n",
      "\n"
     ]
    }
   ],
   "source": [
    "model(RandomForestClassifier(random_state = 0))"
   ]
  },
  {
   "cell_type": "code",
   "execution_count": 42,
   "metadata": {
    "collapsed": true
   },
   "outputs": [
    {
     "name": "stderr",
     "output_type": "stream",
     "text": [
      "C:\\Users\\Administrator\\Anaconda3\\lib\\site-packages\\sklearn\\preprocessing\\label.py:151: DeprecationWarning: The truth value of an empty array is ambiguous. Returning False, but in future this will result in an error. Use `array.size > 0` to check that an array is not empty.\n",
      "  if diff:\n",
      "C:\\Users\\Administrator\\Anaconda3\\lib\\site-packages\\sklearn\\preprocessing\\label.py:151: DeprecationWarning: The truth value of an empty array is ambiguous. Returning False, but in future this will result in an error. Use `array.size > 0` to check that an array is not empty.\n",
      "  if diff:\n"
     ]
    },
    {
     "name": "stdout",
     "output_type": "stream",
     "text": [
      "Training Accuracy = 0.973\n"
     ]
    },
    {
     "name": "stderr",
     "output_type": "stream",
     "text": [
      "C:\\Users\\Administrator\\Anaconda3\\lib\\site-packages\\sklearn\\preprocessing\\label.py:151: DeprecationWarning: The truth value of an empty array is ambiguous. Returning False, but in future this will result in an error. Use `array.size > 0` to check that an array is not empty.\n",
      "  if diff:\n"
     ]
    },
    {
     "name": "stdout",
     "output_type": "stream",
     "text": [
      "Test Accuracy = 0.964\n",
      "ROC_AUC_score : 0.923983\n",
      "Recall = 0.8833333333333333\n",
      "TP = 106\n",
      "TN = 68568\n",
      "FP = 2514\n",
      "FN = 14\n"
     ]
    },
    {
     "data": {
      "image/png": "[encoded data removed]",
      "text/plain": [
       "<matplotlib.figure.Figure at 0xb30c7b8>"
      ]
     },
     "metadata": {},
     "output_type": "display_data"
    },
    {
     "name": "stdout",
     "output_type": "stream",
     "text": [
      "____________________CLASSIFICATION REPORT____________________\n",
      "             precision    recall  f1-score   support\n",
      "\n",
      "          0       1.00      0.96      0.98     71082\n",
      "          1       0.04      0.88      0.08       120\n",
      "\n",
      "avg / total       1.00      0.96      0.98     71202\n",
      "\n"
     ]
    },
    {
     "name": "stderr",
     "output_type": "stream",
     "text": [
      "C:\\Users\\Administrator\\Anaconda3\\lib\\site-packages\\sklearn\\preprocessing\\label.py:151: DeprecationWarning: The truth value of an empty array is ambiguous. Returning False, but in future this will result in an error. Use `array.size > 0` to check that an array is not empty.\n",
      "  if diff:\n"
     ]
    }
   ],
   "source": [
    "model(XGBClassifier(random_state = 0))"
   ]
  },
  {
   "cell_type": "code",
   "execution_count": 12,
   "metadata": {
    "collapsed": true
   },
   "outputs": [
    {
     "name": "stdout",
     "output_type": "stream",
     "text": [
      "Test Accuracy = 0.963\n",
      "ROC_AUC_score : 0.935871\n",
      "Recall = 0.9083333333333333\n",
      "TP = 109\n",
      "TN = 68481\n",
      "FP = 2601\n",
      "FN = 11\n"
     ]
    },
    {
     "data": {
      "image/png": "[encoded data removed]",
      "text/plain": [
       "<matplotlib.figure.Figure at 0xc866c50>"
      ]
     },
     "metadata": {},
     "output_type": "display_data"
    },
    {
     "name": "stdout",
     "output_type": "stream",
     "text": [
      "____________________CLASSIFICATION REPORT____________________\n",
      "             precision    recall  f1-score   support\n",
      "\n",
      "          0       1.00      0.96      0.98     71082\n",
      "          1       0.04      0.91      0.08       120\n",
      "\n",
      "avg / total       1.00      0.96      0.98     71202\n",
      "\n"
     ]
    }
   ],
   "source": [
    "lgbmodel(params, 0.50)"
   ]
  },
  {
   "cell_type": "markdown",
   "metadata": {},
   "source": [
    "RF again gave good overall performance. Boosters gave high recall but with worst precision and F1-score. Further, LGB performed well than XGB."
   ]
  },
  {
   "cell_type": "markdown",
   "metadata": {},
   "source": [
    "##### RESULTS & CONCLUSIONS:\n",
    "1. Random forest performed best when data was balanced using SMOTE Regular and SMOTE SVC(took more time to balance the dataset).\n",
    "2. For imbalanced data boosting performed well.\n",
    "3. Also there is almost same result with RandomForest with SMOTE Regular & SVC and LGB(imbalanced dataset).\n",
    "4. When dataset was balanced through different techniques, boosting gave increased recall value and gave low/worst precision and F1 value. When dataset was imbalanced, it maintained precision and F1-score with good but slighlty low recall value. Thus this can be concluded that boosting perfomed slightly better after balancing the dataset.\n",
    "5. Both xgboost and lgb gave almost same results. But, lgb took very less computational time as compared to xgboost. Thus, we should use xgboost for smaller dataset. But if dataset is large lgb should be preffered."
   ]
  },
  {
   "cell_type": "markdown",
   "metadata": {},
   "source": [
    "##### FURTHER WORK:\n",
    "1. Here I have only compared different data balancing techniques with different models with default parameters. Further, we can look at different parameters of both data balancing techniques and models for better performance. I tried here a little bit (changing number of nearest neighbours to use to construct synthetic samples, number of trees, learning_rate, etc.) but the results were almost same and even better for default parameters. One of the reason besides this is due to those 18-20 fraudulent records which where predicted as non-fraudulent by the classifier with more than 95% probability (LGB used above). In this case it becomes very tough for any classifier to predict them correctly.\n",
    "2. One of the limitation of this project was the unavailability of raw credit-card fraud detection dataset i.e, features. If features are available, we can try feature engineering here (polynomials, interactions, etc.)."
   ]
  }
 ],
 "metadata": {
  "kernelspec": {
   "display_name": "Python 3",
   "language": "python",
   "name": "python3"
  },
  "language_info": {
   "codemirror_mode": {
    "name": "ipython",
    "version": 3
   },
   "file_extension": ".py",
   "mimetype": "text/x-python",
   "name": "python",
   "nbconvert_exporter": "python",
   "pygments_lexer": "ipython3",
   "version": "3.6.4"
  }
 },
 "nbformat": 4,
 "nbformat_minor": 2
}
